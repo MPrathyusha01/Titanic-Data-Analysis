{
  "nbformat": 4,
  "nbformat_minor": 0,
  "metadata": {
    "colab": {
      "name": "Titanic survivors.ipynb",
      "provenance": [],
      "collapsed_sections": []
    },
    "kernelspec": {
      "name": "python3",
      "display_name": "Python 3"
    },
    "language_info": {
      "name": "python"
    }
  },
  "cells": [
    {
      "cell_type": "markdown",
      "metadata": {
        "id": "3qBkyJDV7n1z"
      },
      "source": [
        "# TITANIC DATA ANALYSIS"
      ]
    },
    {
      "cell_type": "markdown",
      "metadata": {
        "id": "KqhJ2U5Q7tbt"
      },
      "source": [
        "### IMPORTING DATA LIBRARIES"
      ]
    },
    {
      "cell_type": "code",
      "metadata": {
        "id": "1oh9kh8-l5_q"
      },
      "source": [
        "import numpy as np\n",
        "import pandas as pd\n",
        "import matplotlib.pyplot as plt\n",
        "import seaborn as sns\n",
        "import warnings \n",
        "warnings.filterwarnings(\"ignore\")"
      ],
      "execution_count": 1,
      "outputs": []
    },
    {
      "cell_type": "code",
      "metadata": {
        "id": "nEgm7Vjhl6HX"
      },
      "source": [
        "titanic_df = pd.DataFrame(pd.read_csv('/content/train.csv'))"
      ],
      "execution_count": 2,
      "outputs": []
    },
    {
      "cell_type": "code",
      "metadata": {
        "colab": {
          "base_uri": "https://localhost:8080/",
          "height": 250
        },
        "id": "0Y9gNy56l6J5",
        "outputId": "ca56edb1-96dd-4ca3-f747-4ea7808becae"
      },
      "source": [
        "titanic_df.head()"
      ],
      "execution_count": 3,
      "outputs": [
        {
          "output_type": "execute_result",
          "data": {
            "text/html": [
              "<div>\n",
              "<style scoped>\n",
              "    .dataframe tbody tr th:only-of-type {\n",
              "        vertical-align: middle;\n",
              "    }\n",
              "\n",
              "    .dataframe tbody tr th {\n",
              "        vertical-align: top;\n",
              "    }\n",
              "\n",
              "    .dataframe thead th {\n",
              "        text-align: right;\n",
              "    }\n",
              "</style>\n",
              "<table border=\"1\" class=\"dataframe\">\n",
              "  <thead>\n",
              "    <tr style=\"text-align: right;\">\n",
              "      <th></th>\n",
              "      <th>PassengerId</th>\n",
              "      <th>Survived</th>\n",
              "      <th>Pclass</th>\n",
              "      <th>Name</th>\n",
              "      <th>Sex</th>\n",
              "      <th>Age</th>\n",
              "      <th>SibSp</th>\n",
              "      <th>Parch</th>\n",
              "      <th>Ticket</th>\n",
              "      <th>Fare</th>\n",
              "      <th>Cabin</th>\n",
              "      <th>Embarked</th>\n",
              "    </tr>\n",
              "  </thead>\n",
              "  <tbody>\n",
              "    <tr>\n",
              "      <th>0</th>\n",
              "      <td>1</td>\n",
              "      <td>0</td>\n",
              "      <td>3</td>\n",
              "      <td>Braund, Mr. Owen Harris</td>\n",
              "      <td>male</td>\n",
              "      <td>22.0</td>\n",
              "      <td>1</td>\n",
              "      <td>0</td>\n",
              "      <td>A/5 21171</td>\n",
              "      <td>7.2500</td>\n",
              "      <td>NaN</td>\n",
              "      <td>S</td>\n",
              "    </tr>\n",
              "    <tr>\n",
              "      <th>1</th>\n",
              "      <td>2</td>\n",
              "      <td>1</td>\n",
              "      <td>1</td>\n",
              "      <td>Cumings, Mrs. John Bradley (Florence Briggs Th...</td>\n",
              "      <td>female</td>\n",
              "      <td>38.0</td>\n",
              "      <td>1</td>\n",
              "      <td>0</td>\n",
              "      <td>PC 17599</td>\n",
              "      <td>71.2833</td>\n",
              "      <td>C85</td>\n",
              "      <td>C</td>\n",
              "    </tr>\n",
              "    <tr>\n",
              "      <th>2</th>\n",
              "      <td>3</td>\n",
              "      <td>1</td>\n",
              "      <td>3</td>\n",
              "      <td>Heikkinen, Miss. Laina</td>\n",
              "      <td>female</td>\n",
              "      <td>26.0</td>\n",
              "      <td>0</td>\n",
              "      <td>0</td>\n",
              "      <td>STON/O2. 3101282</td>\n",
              "      <td>7.9250</td>\n",
              "      <td>NaN</td>\n",
              "      <td>S</td>\n",
              "    </tr>\n",
              "    <tr>\n",
              "      <th>3</th>\n",
              "      <td>4</td>\n",
              "      <td>1</td>\n",
              "      <td>1</td>\n",
              "      <td>Futrelle, Mrs. Jacques Heath (Lily May Peel)</td>\n",
              "      <td>female</td>\n",
              "      <td>35.0</td>\n",
              "      <td>1</td>\n",
              "      <td>0</td>\n",
              "      <td>113803</td>\n",
              "      <td>53.1000</td>\n",
              "      <td>C123</td>\n",
              "      <td>S</td>\n",
              "    </tr>\n",
              "    <tr>\n",
              "      <th>4</th>\n",
              "      <td>5</td>\n",
              "      <td>0</td>\n",
              "      <td>3</td>\n",
              "      <td>Allen, Mr. William Henry</td>\n",
              "      <td>male</td>\n",
              "      <td>35.0</td>\n",
              "      <td>0</td>\n",
              "      <td>0</td>\n",
              "      <td>373450</td>\n",
              "      <td>8.0500</td>\n",
              "      <td>NaN</td>\n",
              "      <td>S</td>\n",
              "    </tr>\n",
              "  </tbody>\n",
              "</table>\n",
              "</div>"
            ],
            "text/plain": [
              "   PassengerId  Survived  Pclass  ...     Fare Cabin  Embarked\n",
              "0            1         0       3  ...   7.2500   NaN         S\n",
              "1            2         1       1  ...  71.2833   C85         C\n",
              "2            3         1       3  ...   7.9250   NaN         S\n",
              "3            4         1       1  ...  53.1000  C123         S\n",
              "4            5         0       3  ...   8.0500   NaN         S\n",
              "\n",
              "[5 rows x 12 columns]"
            ]
          },
          "metadata": {
            "tags": []
          },
          "execution_count": 3
        }
      ]
    },
    {
      "cell_type": "markdown",
      "metadata": {
        "id": "3X_9_jFosCw3"
      },
      "source": [
        "# Variable Description\n",
        "* PassengerId : unique id number to each passenger\n",
        "* Survived : passenger survive(1) died(0)\n",
        "* Pclass : passenger class\n",
        "* Name : name\n",
        "* Sex : gender of passenger\n",
        "* Age : age of passenger\n",
        "* SibSp : number of siblings/spouses\n",
        "* Parch : number of parents/children\n",
        "* Ticket : ticket number\n",
        "* Fare : amount of money spent on ticket\n",
        "* Cabin : cabin category\n",
        "* Embarked : port where passenger embarked (C = * Cherbourg, Q = Queenstown, S = Southampton)\n"
      ]
    },
    {
      "cell_type": "markdown",
      "metadata": {
        "id": "sH9NWylS75qr"
      },
      "source": [
        "### ABOUT DATASET"
      ]
    },
    {
      "cell_type": "code",
      "metadata": {
        "colab": {
          "base_uri": "https://localhost:8080/"
        },
        "id": "lFLecWxzlWc3",
        "outputId": "0fee4851-9c8f-49e5-f3a7-94b67b6ea25f"
      },
      "source": [
        "print(\"The size of dataset is \",(titanic_df.shape))"
      ],
      "execution_count": 4,
      "outputs": [
        {
          "output_type": "stream",
          "text": [
            "The size of dataset is  (891, 12)\n"
          ],
          "name": "stdout"
        }
      ]
    },
    {
      "cell_type": "code",
      "metadata": {
        "colab": {
          "base_uri": "https://localhost:8080/"
        },
        "id": "CGy1enKyvdu3",
        "outputId": "cc2479ff-c121-426f-9c12-cc65091553a8"
      },
      "source": [
        "titanic_df.info()"
      ],
      "execution_count": 5,
      "outputs": [
        {
          "output_type": "stream",
          "text": [
            "<class 'pandas.core.frame.DataFrame'>\n",
            "RangeIndex: 891 entries, 0 to 890\n",
            "Data columns (total 12 columns):\n",
            " #   Column       Non-Null Count  Dtype  \n",
            "---  ------       --------------  -----  \n",
            " 0   PassengerId  891 non-null    int64  \n",
            " 1   Survived     891 non-null    int64  \n",
            " 2   Pclass       891 non-null    int64  \n",
            " 3   Name         891 non-null    object \n",
            " 4   Sex          891 non-null    object \n",
            " 5   Age          714 non-null    float64\n",
            " 6   SibSp        891 non-null    int64  \n",
            " 7   Parch        891 non-null    int64  \n",
            " 8   Ticket       891 non-null    object \n",
            " 9   Fare         891 non-null    float64\n",
            " 10  Cabin        204 non-null    object \n",
            " 11  Embarked     889 non-null    object \n",
            "dtypes: float64(2), int64(5), object(5)\n",
            "memory usage: 83.7+ KB\n"
          ],
          "name": "stdout"
        }
      ]
    },
    {
      "cell_type": "markdown",
      "metadata": {
        "id": "vFP3C79S8Knm"
      },
      "source": [
        "### CLEANING THE DATASET"
      ]
    },
    {
      "cell_type": "code",
      "metadata": {
        "colab": {
          "base_uri": "https://localhost:8080/"
        },
        "id": "le8vogn6rcDQ",
        "outputId": "47ea36ef-ef1e-4864-ce76-220debe7d4dc"
      },
      "source": [
        "# Checking for NULL\n",
        "titanic_df.isnull().sum()"
      ],
      "execution_count": 6,
      "outputs": [
        {
          "output_type": "execute_result",
          "data": {
            "text/plain": [
              "PassengerId      0\n",
              "Survived         0\n",
              "Pclass           0\n",
              "Name             0\n",
              "Sex              0\n",
              "Age            177\n",
              "SibSp            0\n",
              "Parch            0\n",
              "Ticket           0\n",
              "Fare             0\n",
              "Cabin          687\n",
              "Embarked         2\n",
              "dtype: int64"
            ]
          },
          "metadata": {
            "tags": []
          },
          "execution_count": 6
        }
      ]
    },
    {
      "cell_type": "code",
      "metadata": {
        "colab": {
          "base_uri": "https://localhost:8080/",
          "height": 293
        },
        "id": "bThMzRcMrcLT",
        "outputId": "9b396992-a5ee-4770-9a0a-c1520360dd02"
      },
      "source": [
        "titanic_df.describe()"
      ],
      "execution_count": 7,
      "outputs": [
        {
          "output_type": "execute_result",
          "data": {
            "text/html": [
              "<div>\n",
              "<style scoped>\n",
              "    .dataframe tbody tr th:only-of-type {\n",
              "        vertical-align: middle;\n",
              "    }\n",
              "\n",
              "    .dataframe tbody tr th {\n",
              "        vertical-align: top;\n",
              "    }\n",
              "\n",
              "    .dataframe thead th {\n",
              "        text-align: right;\n",
              "    }\n",
              "</style>\n",
              "<table border=\"1\" class=\"dataframe\">\n",
              "  <thead>\n",
              "    <tr style=\"text-align: right;\">\n",
              "      <th></th>\n",
              "      <th>PassengerId</th>\n",
              "      <th>Survived</th>\n",
              "      <th>Pclass</th>\n",
              "      <th>Age</th>\n",
              "      <th>SibSp</th>\n",
              "      <th>Parch</th>\n",
              "      <th>Fare</th>\n",
              "    </tr>\n",
              "  </thead>\n",
              "  <tbody>\n",
              "    <tr>\n",
              "      <th>count</th>\n",
              "      <td>891.000000</td>\n",
              "      <td>891.000000</td>\n",
              "      <td>891.000000</td>\n",
              "      <td>714.000000</td>\n",
              "      <td>891.000000</td>\n",
              "      <td>891.000000</td>\n",
              "      <td>891.000000</td>\n",
              "    </tr>\n",
              "    <tr>\n",
              "      <th>mean</th>\n",
              "      <td>446.000000</td>\n",
              "      <td>0.383838</td>\n",
              "      <td>2.308642</td>\n",
              "      <td>29.699118</td>\n",
              "      <td>0.523008</td>\n",
              "      <td>0.381594</td>\n",
              "      <td>32.204208</td>\n",
              "    </tr>\n",
              "    <tr>\n",
              "      <th>std</th>\n",
              "      <td>257.353842</td>\n",
              "      <td>0.486592</td>\n",
              "      <td>0.836071</td>\n",
              "      <td>14.526497</td>\n",
              "      <td>1.102743</td>\n",
              "      <td>0.806057</td>\n",
              "      <td>49.693429</td>\n",
              "    </tr>\n",
              "    <tr>\n",
              "      <th>min</th>\n",
              "      <td>1.000000</td>\n",
              "      <td>0.000000</td>\n",
              "      <td>1.000000</td>\n",
              "      <td>0.420000</td>\n",
              "      <td>0.000000</td>\n",
              "      <td>0.000000</td>\n",
              "      <td>0.000000</td>\n",
              "    </tr>\n",
              "    <tr>\n",
              "      <th>25%</th>\n",
              "      <td>223.500000</td>\n",
              "      <td>0.000000</td>\n",
              "      <td>2.000000</td>\n",
              "      <td>20.125000</td>\n",
              "      <td>0.000000</td>\n",
              "      <td>0.000000</td>\n",
              "      <td>7.910400</td>\n",
              "    </tr>\n",
              "    <tr>\n",
              "      <th>50%</th>\n",
              "      <td>446.000000</td>\n",
              "      <td>0.000000</td>\n",
              "      <td>3.000000</td>\n",
              "      <td>28.000000</td>\n",
              "      <td>0.000000</td>\n",
              "      <td>0.000000</td>\n",
              "      <td>14.454200</td>\n",
              "    </tr>\n",
              "    <tr>\n",
              "      <th>75%</th>\n",
              "      <td>668.500000</td>\n",
              "      <td>1.000000</td>\n",
              "      <td>3.000000</td>\n",
              "      <td>38.000000</td>\n",
              "      <td>1.000000</td>\n",
              "      <td>0.000000</td>\n",
              "      <td>31.000000</td>\n",
              "    </tr>\n",
              "    <tr>\n",
              "      <th>max</th>\n",
              "      <td>891.000000</td>\n",
              "      <td>1.000000</td>\n",
              "      <td>3.000000</td>\n",
              "      <td>80.000000</td>\n",
              "      <td>8.000000</td>\n",
              "      <td>6.000000</td>\n",
              "      <td>512.329200</td>\n",
              "    </tr>\n",
              "  </tbody>\n",
              "</table>\n",
              "</div>"
            ],
            "text/plain": [
              "       PassengerId    Survived      Pclass  ...       SibSp       Parch        Fare\n",
              "count   891.000000  891.000000  891.000000  ...  891.000000  891.000000  891.000000\n",
              "mean    446.000000    0.383838    2.308642  ...    0.523008    0.381594   32.204208\n",
              "std     257.353842    0.486592    0.836071  ...    1.102743    0.806057   49.693429\n",
              "min       1.000000    0.000000    1.000000  ...    0.000000    0.000000    0.000000\n",
              "25%     223.500000    0.000000    2.000000  ...    0.000000    0.000000    7.910400\n",
              "50%     446.000000    0.000000    3.000000  ...    0.000000    0.000000   14.454200\n",
              "75%     668.500000    1.000000    3.000000  ...    1.000000    0.000000   31.000000\n",
              "max     891.000000    1.000000    3.000000  ...    8.000000    6.000000  512.329200\n",
              "\n",
              "[8 rows x 7 columns]"
            ]
          },
          "metadata": {
            "tags": []
          },
          "execution_count": 7
        }
      ]
    },
    {
      "cell_type": "code",
      "metadata": {
        "colab": {
          "base_uri": "https://localhost:8080/",
          "height": 415
        },
        "id": "h-L0ZCJHrcIm",
        "outputId": "1116882e-7681-44ae-9484-17bb6ecb85f1"
      },
      "source": [
        "# Missing values\n",
        "null_df=pd.DataFrame()\n",
        "null_df['Features']=titanic_df.isnull().sum().index\n",
        "null_df['Null values']=titanic_df.isnull().sum().values\n",
        "null_df['% Null values']=(titanic_df.isnull().sum().values / titanic_df.shape[0])*100\n",
        "null_df.sort_values(by='% Null values',ascending=False)"
      ],
      "execution_count": 8,
      "outputs": [
        {
          "output_type": "execute_result",
          "data": {
            "text/html": [
              "<div>\n",
              "<style scoped>\n",
              "    .dataframe tbody tr th:only-of-type {\n",
              "        vertical-align: middle;\n",
              "    }\n",
              "\n",
              "    .dataframe tbody tr th {\n",
              "        vertical-align: top;\n",
              "    }\n",
              "\n",
              "    .dataframe thead th {\n",
              "        text-align: right;\n",
              "    }\n",
              "</style>\n",
              "<table border=\"1\" class=\"dataframe\">\n",
              "  <thead>\n",
              "    <tr style=\"text-align: right;\">\n",
              "      <th></th>\n",
              "      <th>Features</th>\n",
              "      <th>Null values</th>\n",
              "      <th>% Null values</th>\n",
              "    </tr>\n",
              "  </thead>\n",
              "  <tbody>\n",
              "    <tr>\n",
              "      <th>10</th>\n",
              "      <td>Cabin</td>\n",
              "      <td>687</td>\n",
              "      <td>77.104377</td>\n",
              "    </tr>\n",
              "    <tr>\n",
              "      <th>5</th>\n",
              "      <td>Age</td>\n",
              "      <td>177</td>\n",
              "      <td>19.865320</td>\n",
              "    </tr>\n",
              "    <tr>\n",
              "      <th>11</th>\n",
              "      <td>Embarked</td>\n",
              "      <td>2</td>\n",
              "      <td>0.224467</td>\n",
              "    </tr>\n",
              "    <tr>\n",
              "      <th>0</th>\n",
              "      <td>PassengerId</td>\n",
              "      <td>0</td>\n",
              "      <td>0.000000</td>\n",
              "    </tr>\n",
              "    <tr>\n",
              "      <th>1</th>\n",
              "      <td>Survived</td>\n",
              "      <td>0</td>\n",
              "      <td>0.000000</td>\n",
              "    </tr>\n",
              "    <tr>\n",
              "      <th>2</th>\n",
              "      <td>Pclass</td>\n",
              "      <td>0</td>\n",
              "      <td>0.000000</td>\n",
              "    </tr>\n",
              "    <tr>\n",
              "      <th>3</th>\n",
              "      <td>Name</td>\n",
              "      <td>0</td>\n",
              "      <td>0.000000</td>\n",
              "    </tr>\n",
              "    <tr>\n",
              "      <th>4</th>\n",
              "      <td>Sex</td>\n",
              "      <td>0</td>\n",
              "      <td>0.000000</td>\n",
              "    </tr>\n",
              "    <tr>\n",
              "      <th>6</th>\n",
              "      <td>SibSp</td>\n",
              "      <td>0</td>\n",
              "      <td>0.000000</td>\n",
              "    </tr>\n",
              "    <tr>\n",
              "      <th>7</th>\n",
              "      <td>Parch</td>\n",
              "      <td>0</td>\n",
              "      <td>0.000000</td>\n",
              "    </tr>\n",
              "    <tr>\n",
              "      <th>8</th>\n",
              "      <td>Ticket</td>\n",
              "      <td>0</td>\n",
              "      <td>0.000000</td>\n",
              "    </tr>\n",
              "    <tr>\n",
              "      <th>9</th>\n",
              "      <td>Fare</td>\n",
              "      <td>0</td>\n",
              "      <td>0.000000</td>\n",
              "    </tr>\n",
              "  </tbody>\n",
              "</table>\n",
              "</div>"
            ],
            "text/plain": [
              "       Features  Null values  % Null values\n",
              "10        Cabin          687      77.104377\n",
              "5           Age          177      19.865320\n",
              "11     Embarked            2       0.224467\n",
              "0   PassengerId            0       0.000000\n",
              "1      Survived            0       0.000000\n",
              "2        Pclass            0       0.000000\n",
              "3          Name            0       0.000000\n",
              "4           Sex            0       0.000000\n",
              "6         SibSp            0       0.000000\n",
              "7         Parch            0       0.000000\n",
              "8        Ticket            0       0.000000\n",
              "9          Fare            0       0.000000"
            ]
          },
          "metadata": {
            "tags": []
          },
          "execution_count": 8
        }
      ]
    },
    {
      "cell_type": "code",
      "metadata": {
        "id": "mBQ5KAefrcOF"
      },
      "source": [
        "# We can see that there are around 77% missing values in the cabin column\n",
        "# We will drop Cabin column \n",
        "titanic_df.drop(columns='Cabin' , inplace=True)"
      ],
      "execution_count": 9,
      "outputs": []
    },
    {
      "cell_type": "code",
      "metadata": {
        "colab": {
          "base_uri": "https://localhost:8080/"
        },
        "id": "E7eqlgpPrcQy",
        "outputId": "2a0bd50c-5252-4cc0-97b1-9415c55f8850"
      },
      "source": [
        "titanic_df.shape"
      ],
      "execution_count": 10,
      "outputs": [
        {
          "output_type": "execute_result",
          "data": {
            "text/plain": [
              "(891, 11)"
            ]
          },
          "metadata": {
            "tags": []
          },
          "execution_count": 10
        }
      ]
    },
    {
      "cell_type": "code",
      "metadata": {
        "id": "lIU-mCSjrcTW"
      },
      "source": [
        "# Here we just remove only the Embarked columns with null\n",
        "titanic_df.dropna(subset=['Embarked'],inplace=True)"
      ],
      "execution_count": 11,
      "outputs": []
    },
    {
      "cell_type": "code",
      "metadata": {
        "colab": {
          "base_uri": "https://localhost:8080/"
        },
        "id": "nEDGKEbdrcWK",
        "outputId": "bb53cc38-9e85-4dc5-c94c-b1feb65afeb2"
      },
      "source": [
        "titanic_df.shape"
      ],
      "execution_count": 12,
      "outputs": [
        {
          "output_type": "execute_result",
          "data": {
            "text/plain": [
              "(889, 11)"
            ]
          },
          "metadata": {
            "tags": []
          },
          "execution_count": 12
        }
      ]
    },
    {
      "cell_type": "code",
      "metadata": {
        "id": "A40KX7HwrcYv"
      },
      "source": [
        "# Almost 19% of AGE is null. If we remove it, there could be alot of data loss.\n",
        "# So we replace NULL value of age with median value.\n",
        "titanic_df['Age']=titanic_df['Age'].fillna(titanic_df['Age'].median())"
      ],
      "execution_count": 13,
      "outputs": []
    },
    {
      "cell_type": "code",
      "metadata": {
        "colab": {
          "base_uri": "https://localhost:8080/"
        },
        "id": "k87H6IpcrcbR",
        "outputId": "37f96758-bfe3-4970-a5fb-8c1af5e9394d"
      },
      "source": [
        "titanic_df.isnull().sum()"
      ],
      "execution_count": 14,
      "outputs": [
        {
          "output_type": "execute_result",
          "data": {
            "text/plain": [
              "PassengerId    0\n",
              "Survived       0\n",
              "Pclass         0\n",
              "Name           0\n",
              "Sex            0\n",
              "Age            0\n",
              "SibSp          0\n",
              "Parch          0\n",
              "Ticket         0\n",
              "Fare           0\n",
              "Embarked       0\n",
              "dtype: int64"
            ]
          },
          "metadata": {
            "tags": []
          },
          "execution_count": 14
        }
      ]
    },
    {
      "cell_type": "markdown",
      "metadata": {
        "id": "r8m1RnyKwL9i"
      },
      "source": [
        "# Variable Analysis\n",
        "\n",
        "There are 2 types of variables in dataset\n",
        "* Categorical Variable : Survived, Sex, PClass, Embarked, Cabin, Name, Ticket, Sibsp and Parch\n",
        "* Numerical Variable : Fare, age and passengerId"
      ]
    },
    {
      "cell_type": "markdown",
      "metadata": {
        "id": "Y64hiUeVwQnq"
      },
      "source": [
        "# Categorical Variable"
      ]
    },
    {
      "cell_type": "markdown",
      "metadata": {
        "id": "i8B3xlfl9pw9"
      },
      "source": [
        "## FREQUENCY OF SURVIVERS"
      ]
    },
    {
      "cell_type": "code",
      "metadata": {
        "colab": {
          "base_uri": "https://localhost:8080/",
          "height": 293
        },
        "id": "hxHG7AGxv-_0",
        "outputId": "856a9756-1a41-4cb9-aa87-b333089ab96d"
      },
      "source": [
        "var = titanic_df[\"Survived\"] \n",
        "#count number of categorical variable(value/sample)\n",
        "value_count = var.value_counts()\n",
        "plt.figure(figsize = (9,3))\n",
        "plt.bar(value_count.index,value_count)\n",
        "plt.xticks(value_count.index, value_count.index.values)\n",
        "plt.ylabel(\"Frequency\")\n",
        "plt.title(\"Survived\")\n",
        "plt.show()\n",
        "print(\"{}: \\n {}\".format(\"Survived\",value_count))\n"
      ],
      "execution_count": 15,
      "outputs": [
        {
          "output_type": "display_data",
          "data": {
            "image/png": "[encoded data removed]",
            "text/plain": [
              "<Figure size 648x216 with 1 Axes>"
            ]
          },
          "metadata": {
            "tags": [],
            "needs_background": "light"
          }
        },
        {
          "output_type": "stream",
          "text": [
            "Survived: \n",
            " 0    549\n",
            "1    340\n",
            "Name: Survived, dtype: int64\n"
          ],
          "name": "stdout"
        }
      ]
    },
    {
      "cell_type": "markdown",
      "metadata": {
        "id": "2VS7HjK59wmb"
      },
      "source": [
        "## FREQUENCY OF GENDER"
      ]
    },
    {
      "cell_type": "code",
      "metadata": {
        "colab": {
          "base_uri": "https://localhost:8080/",
          "height": 293
        },
        "id": "dVjehNMkv_Cq",
        "outputId": "6999cd89-8de8-4230-bbb8-f34989aa7344"
      },
      "source": [
        "var = titanic_df[\"Sex\"]\n",
        "#count number of categorical variable(value/sample)\n",
        "value_count = var.value_counts()\n",
        "plt.figure(figsize = (9,3))\n",
        "plt.bar(value_count.index,value_count)\n",
        "plt.xticks(value_count.index, value_count.index.values)\n",
        "plt.ylabel(\"Frequency\")\n",
        "plt.title(\"Sex\")\n",
        "plt.show()\n",
        "print(\"{}: \\n {}\".format(\"Sex\",value_count))"
      ],
      "execution_count": 16,
      "outputs": [
        {
          "output_type": "display_data",
          "data": {
            "image/png": "[encoded data removed]",
            "text/plain": [
              "<Figure size 648x216 with 1 Axes>"
            ]
          },
          "metadata": {
            "tags": [],
            "needs_background": "light"
          }
        },
        {
          "output_type": "stream",
          "text": [
            "Sex: \n",
            " male      577\n",
            "female    312\n",
            "Name: Sex, dtype: int64\n"
          ],
          "name": "stdout"
        }
      ]
    },
    {
      "cell_type": "markdown",
      "metadata": {
        "id": "k0Ye0Svu-3ZI"
      },
      "source": [
        "## FREQUENCY OF PASSENGERS CLASS"
      ]
    },
    {
      "cell_type": "code",
      "metadata": {
        "colab": {
          "base_uri": "https://localhost:8080/",
          "height": 310
        },
        "id": "fAReFBAxv_Fv",
        "outputId": "8fb1526c-62c4-4978-e644-110014151077"
      },
      "source": [
        "var = titanic_df[\"Pclass\"]\n",
        "#count number of categorical variable(value/sample)\n",
        "value_count = var.value_counts()\n",
        "plt.figure(figsize = (9,3))\n",
        "plt.bar(value_count.index,value_count)\n",
        "plt.xticks(value_count.index, value_count.index.values)\n",
        "plt.ylabel(\"Frequency\")\n",
        "plt.title(\"Pclass\")\n",
        "plt.show()\n",
        "print(\"{}: \\n {}\".format(\"Pclass\",value_count))"
      ],
      "execution_count": 17,
      "outputs": [
        {
          "output_type": "display_data",
          "data": {
            "image/png": "[encoded data removed]",
            "text/plain": [
              "<Figure size 648x216 with 1 Axes>"
            ]
          },
          "metadata": {
            "tags": [],
            "needs_background": "light"
          }
        },
        {
          "output_type": "stream",
          "text": [
            "Pclass: \n",
            " 3    491\n",
            "1    214\n",
            "2    184\n",
            "Name: Pclass, dtype: int64\n"
          ],
          "name": "stdout"
        }
      ]
    },
    {
      "cell_type": "markdown",
      "metadata": {
        "id": "m06J1pIUCE3s"
      },
      "source": [
        "## FREQUENCY OF PASSENGERS WHO ARE ALONE"
      ]
    },
    {
      "cell_type": "code",
      "metadata": {
        "id": "E1JOUJsK34yW"
      },
      "source": [
        "titanic_df[\"FamilySize\"] = titanic_df[\"SibSp\"]+ titanic_df['Parch']\n",
        "titanic_df[\"Alone\"] = [0 if titanic_df['FamilySize'][i]>0 else 1 for i in titanic_df.index]"
      ],
      "execution_count": 18,
      "outputs": []
    },
    {
      "cell_type": "code",
      "metadata": {
        "colab": {
          "base_uri": "https://localhost:8080/",
          "height": 310
        },
        "id": "KN82sGlZv_Vb",
        "outputId": "5036b1ed-531b-45d2-8e2e-d5134fd535c5"
      },
      "source": [
        "var = titanic_df[\"Alone\"]\n",
        "#count number of categorical variable(value/sample)\n",
        "value_count = var.value_counts()\n",
        "plt.figure(figsize = (9,3))\n",
        "plt.bar(value_count.index,value_count)\n",
        "plt.xticks(value_count.index, value_count.index.values)\n",
        "plt.ylabel(\"Frequency\")\n",
        "plt.title(\"Alone\")\n",
        "plt.show()\n",
        "print(\"{}: \\n {}\".format(\"Alone\",value_count))\n",
        "print(\"0: Died  1:Alive\")"
      ],
      "execution_count": 19,
      "outputs": [
        {
          "output_type": "display_data",
          "data": {
            "image/png": "[encoded data removed]",
            "text/plain": [
              "<Figure size 648x216 with 1 Axes>"
            ]
          },
          "metadata": {
            "tags": [],
            "needs_background": "light"
          }
        },
        {
          "output_type": "stream",
          "text": [
            "Alone: \n",
            " 1    535\n",
            "0    354\n",
            "Name: Alone, dtype: int64\n",
            "0: Died  1:Alive\n"
          ],
          "name": "stdout"
        }
      ]
    },
    {
      "cell_type": "markdown",
      "metadata": {
        "id": "USi1gQUfzCSa"
      },
      "source": [
        "## Numerical Variable"
      ]
    },
    {
      "cell_type": "markdown",
      "metadata": {
        "id": "yuBxo8A5-8Kj"
      },
      "source": [
        "## FREQUENCY OF AGE"
      ]
    },
    {
      "cell_type": "code",
      "metadata": {
        "colab": {
          "base_uri": "https://localhost:8080/",
          "height": 225
        },
        "id": "RcKq-tmav_Hy",
        "outputId": "22b75a2d-51ce-4a48-ff93-174d39d50802"
      },
      "source": [
        "plt.figure(figsize = (9,3))\n",
        "plt.hist(titanic_df[\"Age\"],bins=50)\n",
        "plt.xlabel(\"Age\")\n",
        "plt.ylabel(\"Frequency\")\n",
        "plt.show()"
      ],
      "execution_count": 20,
      "outputs": [
        {
          "output_type": "display_data",
          "data": {
            "image/png": "[encoded data removed]",
            "text/plain": [
              "<Figure size 648x216 with 1 Axes>"
            ]
          },
          "metadata": {
            "tags": [],
            "needs_background": "light"
          }
        }
      ]
    },
    {
      "cell_type": "markdown",
      "metadata": {
        "id": "8q86dDvK_YYg"
      },
      "source": [
        "## FREQUENCY OF PASSENGERS BY FARE"
      ]
    },
    {
      "cell_type": "code",
      "metadata": {
        "colab": {
          "base_uri": "https://localhost:8080/",
          "height": 227
        },
        "id": "eJjZTWbP_QeI",
        "outputId": "5154dcec-81a5-4aa7-b601-bea1eb045578"
      },
      "source": [
        "plt.figure(figsize = (9,3))\n",
        "plt.hist(titanic_df[\"Fare\"],bins=50)\n",
        "plt.xlabel(\"Fare\")\n",
        "plt.ylabel(\"Frequency\")\n",
        "plt.show()"
      ],
      "execution_count": 21,
      "outputs": [
        {
          "output_type": "display_data",
          "data": {
            "image/png": "[encoded data removed]",
            "text/plain": [
              "<Figure size 648x216 with 1 Axes>"
            ]
          },
          "metadata": {
            "tags": [],
            "needs_background": "light"
          }
        }
      ]
    },
    {
      "cell_type": "markdown",
      "metadata": {
        "id": "t11HgQ0l1QZ3"
      },
      "source": [
        "# CONCULSIONS"
      ]
    },
    {
      "cell_type": "markdown",
      "metadata": {
        "id": "uxW3K7HH_j0J"
      },
      "source": [
        "## Probability of Survivers based on Passengers Class"
      ]
    },
    {
      "cell_type": "code",
      "metadata": {
        "colab": {
          "base_uri": "https://localhost:8080/",
          "height": 455
        },
        "id": "1mw1i6hpv_Kg",
        "outputId": "11dd8285-eb6d-4db1-e044-df12b308cc54"
      },
      "source": [
        "Pclass = sns.factorplot(x = \"Pclass\", y = \"Survived\", data = titanic_df, kind = \"bar\", size = 6)\n",
        "Pclass.set_ylabels(\"Survived Probability\")\n",
        "plt.show()"
      ],
      "execution_count": 22,
      "outputs": [
        {
          "output_type": "display_data",
          "data": {
            "image/png": "[encoded data removed]",
            "text/plain": [
              "<Figure size 432x432 with 1 Axes>"
            ]
          },
          "metadata": {
            "tags": [],
            "needs_background": "light"
          }
        }
      ]
    },
    {
      "cell_type": "markdown",
      "metadata": {
        "id": "mRwktwxl_sEO"
      },
      "source": [
        "###  By the above graph, We can conclude that the passengers who are in 1st class survived most than other classes."
      ]
    },
    {
      "cell_type": "markdown",
      "metadata": {
        "id": "EaIGEmm81oGl"
      },
      "source": [
        "## Probability of Survivers based on AGE"
      ]
    },
    {
      "cell_type": "code",
      "metadata": {
        "colab": {
          "base_uri": "https://localhost:8080/",
          "height": 258
        },
        "id": "JmydRZLjv_NE",
        "outputId": "e1befec0-983f-4a0f-aad4-93749b5e85be"
      },
      "source": [
        "a = sns.FacetGrid(titanic_df, col = \"Survived\")\n",
        "a.map(sns.distplot, \"Age\", bins = 25)\n",
        "plt.figure(figsize = (20,9))\n",
        "plt.show()\n",
        "print(\"0: Died  1:Alive\")"
      ],
      "execution_count": 23,
      "outputs": [
        {
          "output_type": "display_data",
          "data": {
            "image/png": "[encoded data removed]",
            "text/plain": [
              "<Figure size 432x216 with 2 Axes>"
            ]
          },
          "metadata": {
            "tags": [],
            "needs_background": "light"
          }
        },
        {
          "output_type": "display_data",
          "data": {
            "text/plain": [
              "<Figure size 1440x648 with 0 Axes>"
            ]
          },
          "metadata": {
            "tags": []
          }
        },
        {
          "output_type": "stream",
          "text": [
            "0: Died  1:Alive\n"
          ],
          "name": "stdout"
        }
      ]
    },
    {
      "cell_type": "markdown",
      "metadata": {
        "id": "dyD8zZCoBfUx"
      },
      "source": [
        "### By the above graph, We can conclude that approx age of 30 are survived the most.\n"
      ]
    },
    {
      "cell_type": "markdown",
      "metadata": {
        "id": "gT64YdknB1BS"
      },
      "source": [
        "## Probability of Survivers based on ALONE or not"
      ]
    },
    {
      "cell_type": "code",
      "metadata": {
        "colab": {
          "base_uri": "https://localhost:8080/",
          "height": 258
        },
        "id": "9Teq9CM65E-A",
        "outputId": "08f26045-0636-4d07-ca87-9505af98a971"
      },
      "source": [
        "a = sns.FacetGrid(titanic_df, col = \"Alone\")\n",
        "a.map(sns.distplot, \"Survived\", bins = 25)\n",
        "plt.xticks(value_count.index, value_count.index.values)\n",
        "plt.figure(figsize = (9,3))\n",
        "plt.show()\n",
        "print(\"0: Died  1:Alive\")"
      ],
      "execution_count": 24,
      "outputs": [
        {
          "output_type": "display_data",
          "data": {
            "image/png": "[encoded data removed]",
            "text/plain": [
              "<Figure size 432x216 with 2 Axes>"
            ]
          },
          "metadata": {
            "tags": [],
            "needs_background": "light"
          }
        },
        {
          "output_type": "display_data",
          "data": {
            "text/plain": [
              "<Figure size 648x216 with 0 Axes>"
            ]
          },
          "metadata": {
            "tags": []
          }
        },
        {
          "output_type": "stream",
          "text": [
            "0: Died  1:Alive\n"
          ],
          "name": "stdout"
        }
      ]
    },
    {
      "cell_type": "markdown",
      "metadata": {
        "id": "9vbokBtpCteh"
      },
      "source": [
        "### By the above figure, we can conclude that the people who are alone are survived the most."
      ]
    },
    {
      "cell_type": "markdown",
      "metadata": {
        "id": "BlXMga0uC_yC"
      },
      "source": [
        "## Probability of Survivers based on Embarked region."
      ]
    },
    {
      "cell_type": "code",
      "metadata": {
        "colab": {
          "base_uri": "https://localhost:8080/",
          "height": 258
        },
        "id": "-PeprUuD5nZA",
        "outputId": "dd214255-56e4-4937-d7e3-bc1bb95a96bf"
      },
      "source": [
        "a = sns.FacetGrid(titanic_df, col = \"Embarked\")\n",
        "a.map(sns.distplot, \"Survived\", bins = 25)\n",
        "plt.xticks(value_count.index, value_count.index.values)\n",
        "plt.figure(figsize = (9,3))\n",
        "plt.show()\n",
        "print(\"0: Died  1:Alive\")"
      ],
      "execution_count": 25,
      "outputs": [
        {
          "output_type": "display_data",
          "data": {
            "image/png": "[encoded data removed]",
            "text/plain": [
              "<Figure size 648x216 with 3 Axes>"
            ]
          },
          "metadata": {
            "tags": [],
            "needs_background": "light"
          }
        },
        {
          "output_type": "display_data",
          "data": {
            "text/plain": [
              "<Figure size 648x216 with 0 Axes>"
            ]
          },
          "metadata": {
            "tags": []
          }
        },
        {
          "output_type": "stream",
          "text": [
            "0: Died  1:Alive\n"
          ],
          "name": "stdout"
        }
      ]
    },
    {
      "cell_type": "markdown",
      "metadata": {
        "id": "K27QHh2TDLi5"
      },
      "source": [
        "### Based on above figure, We can say that people from C survived the most compare than S and Q  \n",
        "* (C =  Cherbourg, Q = Queenstown, S = Southampton)"
      ]
    },
    {
      "cell_type": "markdown",
      "metadata": {
        "id": "nImCnn15Dlvx"
      },
      "source": [
        "##  Probability of Survivers based on SEX "
      ]
    },
    {
      "cell_type": "code",
      "metadata": {
        "colab": {
          "base_uri": "https://localhost:8080/",
          "height": 258
        },
        "id": "m-8k97pS54HZ",
        "outputId": "e81dd68c-ae05-4131-ba98-9fec6ee60ff9"
      },
      "source": [
        "a = sns.FacetGrid(titanic_df, col = \"Sex\")\n",
        "a.map(sns.distplot, \"Survived\", bins = 25)\n",
        "plt.xticks(value_count.index, value_count.index.values)\n",
        "plt.figure(figsize = (9,3))\n",
        "plt.show()\n",
        "print(\"0: Died  1:Alive\")"
      ],
      "execution_count": 26,
      "outputs": [
        {
          "output_type": "display_data",
          "data": {
            "image/png": "[encoded data removed]",
            "text/plain": [
              "<Figure size 432x216 with 2 Axes>"
            ]
          },
          "metadata": {
            "tags": [],
            "needs_background": "light"
          }
        },
        {
          "output_type": "display_data",
          "data": {
            "text/plain": [
              "<Figure size 648x216 with 0 Axes>"
            ]
          },
          "metadata": {
            "tags": []
          }
        },
        {
          "output_type": "stream",
          "text": [
            "0: Died  1:Alive\n"
          ],
          "name": "stdout"
        }
      ]
    },
    {
      "cell_type": "markdown",
      "metadata": {
        "id": "YZdaIRASDwxk"
      },
      "source": [
        "### Based on above figure, We can say that Females are safe more tham men."
      ]
    },
    {
      "cell_type": "markdown",
      "metadata": {
        "id": "wLdFw72REMYr"
      },
      "source": [
        "# CONCLUSION"
      ]
    },
    {
      "cell_type": "markdown",
      "metadata": {
        "id": "Pz3DDDEuEivj"
      },
      "source": [
        "* People who are in 1st class are more survived than other 2nd and 3rd class passengers.\n",
        "* Passengers age whao are less tahn 30 are survied most.\n",
        "* Passengers who are alone are *NOT* survived than passerger who are with family.\n",
        "* Passengers who are from Cherbourg port are more survived than other port.\n",
        "\n",
        "\n",
        "\n"
      ]
    }
  ]
}